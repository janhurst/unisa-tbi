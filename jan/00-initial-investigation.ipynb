{
 "nbformat": 4,
 "nbformat_minor": 2,
 "metadata": {
  "language_info": {
   "name": "python",
   "codemirror_mode": {
    "name": "ipython",
    "version": 3
   },
   "version": "3.7.4-final"
  },
  "orig_nbformat": 2,
  "file_extension": ".py",
  "mimetype": "text/x-python",
  "name": "python",
  "npconvert_exporter": "python",
  "pygments_lexer": "ipython3",
  "version": 3,
  "kernelspec": {
   "name": "python3",
   "display_name": "Python 3"
  }
 },
 "cells": [
  {
   "cell_type": "code",
   "execution_count": 24,
   "metadata": {},
   "outputs": [],
   "source": [
    "import pandas as pd \n",
    "import numpy as np"
   ]
  },
  {
   "cell_type": "code",
   "execution_count": 36,
   "metadata": {},
   "outputs": [],
   "source": [
    "# load the PECARN data set\n",
    "# use the Patient Number (PatNum) as the index\n",
    "df = pd.read_csv('../data/TBI PUD 10-08-2013.csv', index_col=0)"
   ]
  },
  {
   "cell_type": "code",
   "execution_count": 37,
   "metadata": {},
   "outputs": [],
   "source": [
    "# interate the columns and use the new nullable integer types\n",
    "# https://stackoverflow.com/a/57180642\n",
    "def nan_ints(df,convert_strings=False,subset = None):\n",
    "    types = ['int64','float64']\n",
    "    if subset is None:\n",
    "        subset = list(df)\n",
    "    if convert_strings:\n",
    "        types.append('object')\n",
    "    for col in subset:\n",
    "        try:\n",
    "            if df[col].dtype in types:\n",
    "                df[col] = df[col].astype(float).astype('Int64')\n",
    "        except:\n",
    "            pass\n",
    "    return df"
   ]
  },
  {
   "cell_type": "code",
   "execution_count": 38,
   "metadata": {},
   "outputs": [],
   "source": [
    "df = nan_ints(df)"
   ]
  },
  {
   "cell_type": "code",
   "execution_count": 39,
   "metadata": {},
   "outputs": [
    {
     "data": {
      "text/html": "<div>\n<style scoped>\n    .dataframe tbody tr th:only-of-type {\n        vertical-align: middle;\n    }\n\n    .dataframe tbody tr th {\n        vertical-align: top;\n    }\n\n    .dataframe thead th {\n        text-align: right;\n    }\n</style>\n<table border=\"1\" class=\"dataframe\">\n  <thead>\n    <tr style=\"text-align: right;\">\n      <th></th>\n      <th>EmplType</th>\n      <th>Certification</th>\n      <th>InjuryMech</th>\n      <th>High_impact_InjSev</th>\n      <th>Amnesia_verb</th>\n      <th>LOCSeparate</th>\n      <th>LocLen</th>\n      <th>Seiz</th>\n      <th>SeizOccur</th>\n      <th>SeizLen</th>\n      <th>...</th>\n      <th>Finding20</th>\n      <th>Finding21</th>\n      <th>Finding22</th>\n      <th>Finding23</th>\n      <th>DeathTBI</th>\n      <th>HospHead</th>\n      <th>HospHeadPosCT</th>\n      <th>Intub24Head</th>\n      <th>Neurosurgery</th>\n      <th>PosIntFinal</th>\n    </tr>\n    <tr>\n      <th>PatNum</th>\n      <th></th>\n      <th></th>\n      <th></th>\n      <th></th>\n      <th></th>\n      <th></th>\n      <th></th>\n      <th></th>\n      <th></th>\n      <th></th>\n      <th></th>\n      <th></th>\n      <th></th>\n      <th></th>\n      <th></th>\n      <th></th>\n      <th></th>\n      <th></th>\n      <th></th>\n      <th></th>\n      <th></th>\n    </tr>\n  </thead>\n  <tbody>\n    <tr>\n      <td>1</td>\n      <td>3</td>\n      <td>3</td>\n      <td>11</td>\n      <td>2</td>\n      <td>0</td>\n      <td>0</td>\n      <td>92</td>\n      <td>0</td>\n      <td>92</td>\n      <td>92</td>\n      <td>...</td>\n      <td>92</td>\n      <td>92</td>\n      <td>92</td>\n      <td>92</td>\n      <td>0</td>\n      <td>0</td>\n      <td>0</td>\n      <td>0</td>\n      <td>0</td>\n      <td>0</td>\n    </tr>\n    <tr>\n      <td>2</td>\n      <td>5</td>\n      <td>3</td>\n      <td>8</td>\n      <td>2</td>\n      <td>0</td>\n      <td>0</td>\n      <td>92</td>\n      <td>0</td>\n      <td>92</td>\n      <td>92</td>\n      <td>...</td>\n      <td>0</td>\n      <td>0</td>\n      <td>0</td>\n      <td>0</td>\n      <td>0</td>\n      <td>0</td>\n      <td>0</td>\n      <td>0</td>\n      <td>0</td>\n      <td>0</td>\n    </tr>\n    <tr>\n      <td>3</td>\n      <td>5</td>\n      <td>3</td>\n      <td>5</td>\n      <td>2</td>\n      <td>NaN</td>\n      <td>NaN</td>\n      <td>92</td>\n      <td>NaN</td>\n      <td>92</td>\n      <td>92</td>\n      <td>...</td>\n      <td>0</td>\n      <td>0</td>\n      <td>0</td>\n      <td>0</td>\n      <td>0</td>\n      <td>1</td>\n      <td>0</td>\n      <td>0</td>\n      <td>0</td>\n      <td>0</td>\n    </tr>\n  </tbody>\n</table>\n<p>3 rows × 124 columns</p>\n</div>",
      "text/plain": "        EmplType  Certification  InjuryMech  High_impact_InjSev  Amnesia_verb  \\\nPatNum                                                                          \n1              3              3          11                   2             0   \n2              5              3           8                   2             0   \n3              5              3           5                   2           NaN   \n\n        LOCSeparate  LocLen  Seiz  SeizOccur  SeizLen  ...  Finding20  \\\nPatNum                                                 ...              \n1                 0      92     0         92       92  ...         92   \n2                 0      92     0         92       92  ...          0   \n3               NaN      92   NaN         92       92  ...          0   \n\n        Finding21  Finding22  Finding23  DeathTBI  HospHead  HospHeadPosCT  \\\nPatNum                                                                       \n1              92         92         92         0         0              0   \n2               0          0          0         0         0              0   \n3               0          0          0         0         1              0   \n\n        Intub24Head  Neurosurgery  PosIntFinal  \nPatNum                                          \n1                 0             0            0  \n2                 0             0            0  \n3                 0             0            0  \n\n[3 rows x 124 columns]"
     },
     "execution_count": 39,
     "metadata": {},
     "output_type": "execute_result"
    }
   ],
   "source": [
    "df.head(3)"
   ]
  },
  {
   "cell_type": "code",
   "execution_count": 40,
   "metadata": {},
   "outputs": [
    {
     "data": {
      "text/plain": "EmplType              Int64\nCertification         Int64\nInjuryMech            Int64\nHigh_impact_InjSev    Int64\nAmnesia_verb          Int64\nLOCSeparate           Int64\nLocLen                Int64\nSeiz                  Int64\nSeizOccur             Int64\nSeizLen               Int64\nActNorm               Int64\nHA_verb               Int64\nHASeverity            Int64\nHAStart               Int64\nVomit                 Int64\nVomitNbr              Int64\nVomitStart            Int64\nVomitLast             Int64\nDizzy                 Int64\nIntubated             Int64\nParalyzed             Int64\nSedated               Int64\nGCSEye                Int64\nGCSVerbal             Int64\nGCSMotor              Int64\nGCSTotal              Int64\nGCSGroup              Int64\nAMS                   Int64\nAMSAgitated           Int64\nAMSSleep              Int64\nAMSSlow               Int64\nAMSRepeat             Int64\nAMSOth                Int64\nSFxPalp               Int64\nSFxPalpDepress        Int64\nFontBulg              Int64\nSFxBas                Int64\nSFxBasHem             Int64\nSFxBasOto             Int64\nSFxBasPer             Int64\nSFxBasRet             Int64\nSFxBasRhi             Int64\nHema                  Int64\nHemaLoc               Int64\nHemaSize              Int64\nClav                  Int64\nClavFace              Int64\nClavNeck              Int64\nClavFro               Int64\nClavOcc               Int64\nClavPar               Int64\nClavTem               Int64\nNeuroD                Int64\nNeuroDMotor           Int64\nNeuroDSensory         Int64\nNeuroDCranial         Int64\nNeuroDReflex          Int64\nNeuroDOth             Int64\nOSI                   Int64\nOSIExtremity          Int64\nOSICut                Int64\nOSICspine             Int64\nOSIFlank              Int64\nOSIAbdomen            Int64\nOSIPelvis             Int64\nOSIOth                Int64\nDrugs                 Int64\nCTForm1               Int64\nIndAge                Int64\nIndAmnesia            Int64\nIndAMS                Int64\nIndClinSFx            Int64\nIndHA                 Int64\nIndHema               Int64\nIndLOC                Int64\nIndMech               Int64\nIndNeuroD             Int64\nIndRqstMD             Int64\nIndRqstParent         Int64\nIndRqstTrauma         Int64\nIndSeiz               Int64\nIndVomit              Int64\nIndXraySFx            Int64\nIndOth                Int64\nCTSed                 Int64\nCTSedAgitate          Int64\nCTSedAge              Int64\nCTSedRqst             Int64\nCTSedOth              Int64\nAgeInMonth            Int64\nAgeinYears            Int64\nAgeTwoPlus            Int64\nGender                Int64\nEthnicity             Int64\nRace                  Int64\nObserved              Int64\nEDDisposition         Int64\nCTDone                Int64\nEDCT                  Int64\nPosCT                 Int64\nFinding1              Int64\nFinding2              Int64\nFinding3              Int64\nFinding4              Int64\nFinding5              Int64\nFinding6              Int64\nFinding7              Int64\nFinding8              Int64\nFinding9              Int64\nFinding10             Int64\nFinding11             Int64\nFinding12             Int64\nFinding13             Int64\nFinding14             Int64\nFinding20             Int64\nFinding21             Int64\nFinding22             Int64\nFinding23             Int64\nDeathTBI              Int64\nHospHead              Int64\nHospHeadPosCT         Int64\nIntub24Head           Int64\nNeurosurgery          Int64\nPosIntFinal            Int8\ndtype: object"
     },
     "execution_count": 40,
     "metadata": {},
     "output_type": "execute_result"
    }
   ],
   "source": [
    "pd.set_option('display.max_rows', 125)\n",
    "df.dtypes"
   ]
  },
  {
   "cell_type": "code",
   "execution_count": 7,
   "metadata": {},
   "outputs": [
    {
     "data": {
      "text/html": "<div>\n<style scoped>\n    .dataframe tbody tr th:only-of-type {\n        vertical-align: middle;\n    }\n\n    .dataframe tbody tr th {\n        vertical-align: top;\n    }\n\n    .dataframe thead th {\n        text-align: right;\n    }\n</style>\n<table border=\"1\" class=\"dataframe\">\n  <thead>\n    <tr style=\"text-align: right;\">\n      <th></th>\n      <th>PatNum</th>\n      <th>EmplType</th>\n      <th>Certification</th>\n      <th>InjuryMech</th>\n      <th>High_impact_InjSev</th>\n      <th>Amnesia_verb</th>\n      <th>LOCSeparate</th>\n      <th>LocLen</th>\n      <th>Seiz</th>\n      <th>SeizOccur</th>\n      <th>...</th>\n      <th>Finding20</th>\n      <th>Finding21</th>\n      <th>Finding22</th>\n      <th>Finding23</th>\n      <th>DeathTBI</th>\n      <th>HospHead</th>\n      <th>HospHeadPosCT</th>\n      <th>Intub24Head</th>\n      <th>Neurosurgery</th>\n      <th>PosIntFinal</th>\n    </tr>\n  </thead>\n  <tbody>\n    <tr>\n      <td>count</td>\n      <td>43399.000000</td>\n      <td>43381.000000</td>\n      <td>43399.000000</td>\n      <td>43098.000000</td>\n      <td>43065.000000</td>\n      <td>41103.000000</td>\n      <td>41507.000000</td>\n      <td>40843.000000</td>\n      <td>42487.000000</td>\n      <td>43328.000000</td>\n      <td>...</td>\n      <td>43399.000000</td>\n      <td>43399.000000</td>\n      <td>43399.000000</td>\n      <td>43399.000000</td>\n      <td>43391.000000</td>\n      <td>43396.000000</td>\n      <td>43399.000000</td>\n      <td>43395.000000</td>\n      <td>43398.000000</td>\n      <td>43379.000000</td>\n    </tr>\n    <tr>\n      <td>mean</td>\n      <td>21700.000000</td>\n      <td>3.996750</td>\n      <td>3.984055</td>\n      <td>13.905146</td>\n      <td>1.986555</td>\n      <td>32.888159</td>\n      <td>0.213313</td>\n      <td>82.578532</td>\n      <td>0.014193</td>\n      <td>90.890694</td>\n      <td>...</td>\n      <td>58.296643</td>\n      <td>58.296551</td>\n      <td>58.296850</td>\n      <td>58.296297</td>\n      <td>0.001521</td>\n      <td>0.020002</td>\n      <td>0.015968</td>\n      <td>0.004401</td>\n      <td>0.004609</td>\n      <td>0.017589</td>\n    </tr>\n    <tr>\n      <td>std</td>\n      <td>12528.356503</td>\n      <td>1.161454</td>\n      <td>11.178135</td>\n      <td>22.697257</td>\n      <td>0.565865</td>\n      <td>43.603687</td>\n      <td>0.514553</td>\n      <td>27.517329</td>\n      <td>0.118286</td>\n      <td>9.949818</td>\n      <td>...</td>\n      <td>44.326113</td>\n      <td>44.326233</td>\n      <td>44.325843</td>\n      <td>44.326564</td>\n      <td>0.038971</td>\n      <td>0.140008</td>\n      <td>0.125353</td>\n      <td>0.066198</td>\n      <td>0.067730</td>\n      <td>0.131454</td>\n    </tr>\n    <tr>\n      <td>min</td>\n      <td>1.000000</td>\n      <td>1.000000</td>\n      <td>1.000000</td>\n      <td>1.000000</td>\n      <td>1.000000</td>\n      <td>0.000000</td>\n      <td>0.000000</td>\n      <td>1.000000</td>\n      <td>0.000000</td>\n      <td>1.000000</td>\n      <td>...</td>\n      <td>0.000000</td>\n      <td>0.000000</td>\n      <td>0.000000</td>\n      <td>0.000000</td>\n      <td>0.000000</td>\n      <td>0.000000</td>\n      <td>0.000000</td>\n      <td>0.000000</td>\n      <td>0.000000</td>\n      <td>0.000000</td>\n    </tr>\n    <tr>\n      <td>25%</td>\n      <td>10850.500000</td>\n      <td>3.000000</td>\n      <td>2.000000</td>\n      <td>6.000000</td>\n      <td>2.000000</td>\n      <td>0.000000</td>\n      <td>0.000000</td>\n      <td>92.000000</td>\n      <td>0.000000</td>\n      <td>92.000000</td>\n      <td>...</td>\n      <td>0.000000</td>\n      <td>0.000000</td>\n      <td>0.000000</td>\n      <td>0.000000</td>\n      <td>0.000000</td>\n      <td>0.000000</td>\n      <td>0.000000</td>\n      <td>0.000000</td>\n      <td>0.000000</td>\n      <td>0.000000</td>\n    </tr>\n    <tr>\n      <td>50%</td>\n      <td>21700.000000</td>\n      <td>5.000000</td>\n      <td>3.000000</td>\n      <td>8.000000</td>\n      <td>2.000000</td>\n      <td>0.000000</td>\n      <td>0.000000</td>\n      <td>92.000000</td>\n      <td>0.000000</td>\n      <td>92.000000</td>\n      <td>...</td>\n      <td>92.000000</td>\n      <td>92.000000</td>\n      <td>92.000000</td>\n      <td>92.000000</td>\n      <td>0.000000</td>\n      <td>0.000000</td>\n      <td>0.000000</td>\n      <td>0.000000</td>\n      <td>0.000000</td>\n      <td>0.000000</td>\n    </tr>\n    <tr>\n      <td>75%</td>\n      <td>32549.500000</td>\n      <td>5.000000</td>\n      <td>3.000000</td>\n      <td>10.000000</td>\n      <td>2.000000</td>\n      <td>91.000000</td>\n      <td>0.000000</td>\n      <td>92.000000</td>\n      <td>0.000000</td>\n      <td>92.000000</td>\n      <td>...</td>\n      <td>92.000000</td>\n      <td>92.000000</td>\n      <td>92.000000</td>\n      <td>92.000000</td>\n      <td>0.000000</td>\n      <td>0.000000</td>\n      <td>0.000000</td>\n      <td>0.000000</td>\n      <td>0.000000</td>\n      <td>0.000000</td>\n    </tr>\n    <tr>\n      <td>max</td>\n      <td>43399.000000</td>\n      <td>5.000000</td>\n      <td>90.000000</td>\n      <td>90.000000</td>\n      <td>3.000000</td>\n      <td>91.000000</td>\n      <td>2.000000</td>\n      <td>92.000000</td>\n      <td>1.000000</td>\n      <td>92.000000</td>\n      <td>...</td>\n      <td>92.000000</td>\n      <td>92.000000</td>\n      <td>92.000000</td>\n      <td>92.000000</td>\n      <td>1.000000</td>\n      <td>1.000000</td>\n      <td>1.000000</td>\n      <td>1.000000</td>\n      <td>1.000000</td>\n      <td>1.000000</td>\n    </tr>\n  </tbody>\n</table>\n<p>8 rows × 125 columns</p>\n</div>",
      "text/plain": "             PatNum      EmplType  Certification    InjuryMech  \\\ncount  43399.000000  43381.000000   43399.000000  43098.000000   \nmean   21700.000000      3.996750       3.984055     13.905146   \nstd    12528.356503      1.161454      11.178135     22.697257   \nmin        1.000000      1.000000       1.000000      1.000000   \n25%    10850.500000      3.000000       2.000000      6.000000   \n50%    21700.000000      5.000000       3.000000      8.000000   \n75%    32549.500000      5.000000       3.000000     10.000000   \nmax    43399.000000      5.000000      90.000000     90.000000   \n\n       High_impact_InjSev  Amnesia_verb   LOCSeparate        LocLen  \\\ncount        43065.000000  41103.000000  41507.000000  40843.000000   \nmean             1.986555     32.888159      0.213313     82.578532   \nstd              0.565865     43.603687      0.514553     27.517329   \nmin              1.000000      0.000000      0.000000      1.000000   \n25%              2.000000      0.000000      0.000000     92.000000   \n50%              2.000000      0.000000      0.000000     92.000000   \n75%              2.000000     91.000000      0.000000     92.000000   \nmax              3.000000     91.000000      2.000000     92.000000   \n\n               Seiz     SeizOccur  ...     Finding20     Finding21  \\\ncount  42487.000000  43328.000000  ...  43399.000000  43399.000000   \nmean       0.014193     90.890694  ...     58.296643     58.296551   \nstd        0.118286      9.949818  ...     44.326113     44.326233   \nmin        0.000000      1.000000  ...      0.000000      0.000000   \n25%        0.000000     92.000000  ...      0.000000      0.000000   \n50%        0.000000     92.000000  ...     92.000000     92.000000   \n75%        0.000000     92.000000  ...     92.000000     92.000000   \nmax        1.000000     92.000000  ...     92.000000     92.000000   \n\n          Finding22     Finding23      DeathTBI      HospHead  HospHeadPosCT  \\\ncount  43399.000000  43399.000000  43391.000000  43396.000000   43399.000000   \nmean      58.296850     58.296297      0.001521      0.020002       0.015968   \nstd       44.325843     44.326564      0.038971      0.140008       0.125353   \nmin        0.000000      0.000000      0.000000      0.000000       0.000000   \n25%        0.000000      0.000000      0.000000      0.000000       0.000000   \n50%       92.000000     92.000000      0.000000      0.000000       0.000000   \n75%       92.000000     92.000000      0.000000      0.000000       0.000000   \nmax       92.000000     92.000000      1.000000      1.000000       1.000000   \n\n        Intub24Head  Neurosurgery   PosIntFinal  \ncount  43395.000000  43398.000000  43379.000000  \nmean       0.004401      0.004609      0.017589  \nstd        0.066198      0.067730      0.131454  \nmin        0.000000      0.000000      0.000000  \n25%        0.000000      0.000000      0.000000  \n50%        0.000000      0.000000      0.000000  \n75%        0.000000      0.000000      0.000000  \nmax        1.000000      1.000000      1.000000  \n\n[8 rows x 125 columns]"
     },
     "execution_count": 7,
     "metadata": {},
     "output_type": "execute_result"
    }
   ],
   "source": [
    "df.describe()"
   ]
  },
  {
   "cell_type": "code",
   "execution_count": 41,
   "metadata": {},
   "outputs": [
    {
     "data": {
      "text/html": "<div>\n<style scoped>\n    .dataframe tbody tr th:only-of-type {\n        vertical-align: middle;\n    }\n\n    .dataframe tbody tr th {\n        vertical-align: top;\n    }\n\n    .dataframe thead th {\n        text-align: right;\n    }\n</style>\n<table border=\"1\" class=\"dataframe\">\n  <thead>\n    <tr style=\"text-align: right;\">\n      <th></th>\n      <th>EmplType</th>\n      <th>Certification</th>\n      <th>InjuryMech</th>\n      <th>High_impact_InjSev</th>\n      <th>Amnesia_verb</th>\n      <th>LOCSeparate</th>\n      <th>LocLen</th>\n      <th>Seiz</th>\n      <th>SeizOccur</th>\n      <th>SeizLen</th>\n      <th>...</th>\n      <th>Finding14</th>\n      <th>Finding20</th>\n      <th>Finding21</th>\n      <th>Finding22</th>\n      <th>Finding23</th>\n      <th>DeathTBI</th>\n      <th>HospHead</th>\n      <th>HospHeadPosCT</th>\n      <th>Intub24Head</th>\n      <th>Neurosurgery</th>\n    </tr>\n    <tr>\n      <th>PosIntFinal</th>\n      <th></th>\n      <th></th>\n      <th></th>\n      <th></th>\n      <th></th>\n      <th></th>\n      <th></th>\n      <th></th>\n      <th></th>\n      <th></th>\n      <th></th>\n      <th></th>\n      <th></th>\n      <th></th>\n      <th></th>\n      <th></th>\n      <th></th>\n      <th></th>\n      <th></th>\n      <th></th>\n      <th></th>\n    </tr>\n  </thead>\n  <tbody>\n    <tr>\n      <td>0</td>\n      <td>42598</td>\n      <td>42616</td>\n      <td>42330</td>\n      <td>42301</td>\n      <td>40458</td>\n      <td>40852</td>\n      <td>40290</td>\n      <td>41847</td>\n      <td>42559</td>\n      <td>42524</td>\n      <td>...</td>\n      <td>42616</td>\n      <td>42616</td>\n      <td>42616</td>\n      <td>42616</td>\n      <td>42616</td>\n      <td>42611</td>\n      <td>42615</td>\n      <td>42616</td>\n      <td>42614</td>\n      <td>42615</td>\n    </tr>\n    <tr>\n      <td>1</td>\n      <td>763</td>\n      <td>763</td>\n      <td>748</td>\n      <td>744</td>\n      <td>626</td>\n      <td>635</td>\n      <td>535</td>\n      <td>620</td>\n      <td>750</td>\n      <td>740</td>\n      <td>...</td>\n      <td>763</td>\n      <td>763</td>\n      <td>763</td>\n      <td>763</td>\n      <td>763</td>\n      <td>763</td>\n      <td>763</td>\n      <td>763</td>\n      <td>762</td>\n      <td>763</td>\n    </tr>\n  </tbody>\n</table>\n<p>2 rows × 123 columns</p>\n</div>",
      "text/plain": "             EmplType  Certification  InjuryMech  High_impact_InjSev  \\\nPosIntFinal                                                            \n0               42598          42616       42330               42301   \n1                 763            763         748                 744   \n\n             Amnesia_verb  LOCSeparate  LocLen   Seiz  SeizOccur  SeizLen  \\\nPosIntFinal                                                                 \n0                   40458        40852   40290  41847      42559    42524   \n1                     626          635     535    620        750      740   \n\n             ...  Finding14  Finding20  Finding21  Finding22  Finding23  \\\nPosIntFinal  ...                                                          \n0            ...      42616      42616      42616      42616      42616   \n1            ...        763        763        763        763        763   \n\n             DeathTBI  HospHead  HospHeadPosCT  Intub24Head  Neurosurgery  \nPosIntFinal                                                                \n0               42611     42615          42616        42614         42615  \n1                 763       763            763          762           763  \n\n[2 rows x 123 columns]"
     },
     "execution_count": 41,
     "metadata": {},
     "output_type": "execute_result"
    }
   ],
   "source": [
    "# looks like the data is quite imbalanced\n",
    "df.groupby('PosIntFinal').count()"
   ]
  }
 ]
}