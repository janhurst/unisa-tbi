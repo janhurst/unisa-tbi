{
 "nbformat": 4,
 "nbformat_minor": 2,
 "metadata": {
  "language_info": {
   "name": "python",
   "codemirror_mode": {
    "name": "ipython",
    "version": 3
   },
   "version": "3.7.6-final"
  },
  "orig_nbformat": 2,
  "file_extension": ".py",
  "mimetype": "text/x-python",
  "name": "python",
  "npconvert_exporter": "python",
  "pygments_lexer": "ipython3",
  "version": 3,
  "kernelspec": {
   "name": "python3",
   "display_name": "Python 3"
  }
 },
 "cells": [
  {
   "cell_type": "code",
   "execution_count": null,
   "metadata": {},
   "outputs": [],
   "source": [
    "{\n",
    "    \"tags\": [\n",
    "        \"hide_input\",\n",
    "        \"hide_output\"\n",
    "    ]\n",
    "}\n",
    "import pandas as pd \n",
    "import numpy as np\n",
    "import seaborn as sns"
   ]
  },
  {
   "cell_type": "markdown",
   "metadata": {},
   "source": [
    "# PECARN TBI"
   ],
   "execution_count": null,
   "outputs": []
  },
  {
   "cell_type": "code",
   "execution_count": null,
   "metadata": {},
   "outputs": [],
   "source": [
    "pecarn_tbi = pd.read_csv('../data/TBI PUD 10-08-2013.csv', index_col=0)"
   ]
  },
  {
   "cell_type": "markdown",
   "metadata": {},
   "source": [
    "# Data Types\n",
    "The majority of the columns in the PECARN dataset are essentially categorical, with the exception of GCS and Age columns which are numeric.\n",
    "\n",
    "It is helpful to convert everything to a nullable integer type (Int64) as there is some missing data, and then to a Categorical type."
   ],
   "execution_count": null,
   "outputs": []
  },
  {
   "cell_type": "code",
   "execution_count": null,
   "metadata": {},
   "outputs": [],
   "source": [
    "for col in list(pecarn_tbi):\n",
    "    try:\n",
    "        pecarn_tbi[col] = pecarn_tbi[col].astype(float).astype('Int64')\n",
    "        if col not in ['AgeinYears', 'AgeInMonth', 'GCSEye', 'GCSVerbal', 'GCSMotor', 'GCSTotal']:\n",
    "            pecarn_tbi[col] = pecarn_tbi[col].astype('category')\n",
    "    except:\n",
    "        pass"
   ]
  },
  {
   "cell_type": "markdown",
   "metadata": {},
   "source": [
    "# Initial Investigation\n",
    "The *pecarn_tbi* dataframe will not be changed from this point onwards, and a *model_inputs* dataframe will be constructed."
   ],
   "execution_count": null,
   "outputs": []
  },
  {
   "cell_type": "markdown",
   "metadata": {},
   "source": [
    "## Age\n",
    "The dataset is evaluated by PECARN for two rule sets, one for a child below 2 years of age, and another for a child over 2 years of age.\n",
    "\n",
    "We don't need both *AgeinYears* and *AgeInMonth*, but it may make sense to record infants age in months in the end-user UI\n"
   ],
   "execution_count": null,
   "outputs": []
  },
  {
   "cell_type": "code",
   "execution_count": null,
   "metadata": {},
   "outputs": [],
   "source": [
    "pecarn_tbi_by_age_group = pecarn_tbi.groupby('AgeTwoPlus')\n",
    "pecarn_tbi_by_age_group['AgeinYears','AgeInMonth'].describe()"
   ]
  },
  {
   "cell_type": "markdown",
   "metadata": {},
   "source": [
    "Lets drop AgeInMonth for now... and fix up the typo while we are at it."
   ],
   "execution_count": null,
   "outputs": []
  },
  {
   "cell_type": "code",
   "execution_count": null,
   "metadata": {},
   "outputs": [],
   "source": [
    "if 'AgeInMonth' in list(pecarn_tbi):\n",
    "    pecarn_tbi = pecarn_tbi.drop(columns='AgeInMonth')\n",
    "pecarn_tbi.rename(columns={'AgeinYears': 'Age'}, inplace=True)"
   ]
  },
  {
   "cell_type": "markdown",
   "metadata": {},
   "source": [
    "# Injury Type\n",
    "The study reports *\"Children were excluded with trivial injury mechanisms defined by ground-level falls or walking or running into stationary objects, and no signs or symptoms of head trauma other than scalp abrasions and lacerations.*\"\n",
    "\n",
    "Can't tell if the statement above means they have already been excluded. So need to investigate.\n"
   ],
   "execution_count": null,
   "outputs": []
  },
  {
   "cell_type": "markdown",
   "metadata": {},
   "source": [
    "### Trivial Injury Mechanisms"
   ],
   "execution_count": null,
   "outputs": []
  },
  {
   "cell_type": "code",
   "execution_count": null,
   "metadata": {},
   "outputs": [],
   "source": [
    "g = sns.FacetGrid(pecarn_tbi, col='High_impact_InjSev', height=4, aspect=.7)\n",
    "g.map(sns.countplot, 'InjuryMech')"
   ]
  },
  {
   "cell_type": "code",
   "execution_count": null,
   "metadata": {},
   "outputs": [],
   "source": [
    "sns.countplot(pecarn_tbi[pecarn_tbi['High_impact_InjSev'] != 1]['InjuryMech'])"
   ]
  },
  {
   "cell_type": "markdown",
   "metadata": {},
   "source": [
    "It looks like InjMech = 6 (Fall to ground from standing/walking/running) and InjMech = 7 (Walked or ran into stationary object) are in the data.\n",
    "\n",
    "It also looks like *High_impact_InjSev* category 1 will exclude the *InjuryMech* category 6 and 7, which appear to be in the dataset, but should be excluded."
   ],
   "execution_count": null,
   "outputs": []
  },
  {
   "cell_type": "code",
   "execution_count": null,
   "metadata": {},
   "outputs": [],
   "source": [
    "model_inputs = pecarn_tbi[pecarn_tbi['High_impact_InjSev'] != 1]"
   ]
  },
  {
   "cell_type": "markdown",
   "metadata": {},
   "source": [
    "Patients were also excluded if they had penetrating trauma, known brain tumors, pre-existing neurological disorders complicating assessment, or neuroimaging at an outside hospital before transfer.\n",
    "\n",
    "Patients were excluded if they had ventricular shunts or bleeding disorders."
   ],
   "execution_count": null,
   "outputs": []
  },
  {
   "cell_type": "code",
   "execution_count": null,
   "metadata": {},
   "outputs": [],
   "source": []
  },
  {
   "cell_type": "markdown",
   "metadata": {},
   "source": [
    "# Imbalanced Data\n",
    "It looks like the data is quite imbalanced.\n",
    "\n",
    "TODO: need to decide how to handle this."
   ],
   "execution_count": null,
   "outputs": []
  },
  {
   "cell_type": "code",
   "execution_count": null,
   "metadata": {},
   "outputs": [],
   "source": [
    "pecarn_tbi.groupby(['PosIntFinal','AgeTwoPlus']).count()"
   ]
  },
  {
   "cell_type": "code",
   "execution_count": null,
   "metadata": {},
   "outputs": [],
   "source": [
    "model_inputs.groupby(['PosIntFinal','AgeTwoPlus']).count()"
   ]
  },
  {
   "cell_type": "markdown",
   "metadata": {},
   "source": [
    "# Response Variables\n",
    "In the original dataset, the *PosIntFinal* variable is the response or target variable. \n",
    "\n",
    "However, *PosIntFinal* variable is \"Yes\" when at least one of the *HospHeadPosCT*, *Intub24Head*, *Neurosurgery*, or *DeathTBI* variables were \"Yes\". The model probably doesn't need to predict the category (?)"
   ],
   "execution_count": null,
   "outputs": []
  },
  {
   "cell_type": "code",
   "execution_count": null,
   "metadata": {},
   "outputs": [],
   "source": [
    "responses_all_colnames = ['PosIntFinal', 'HospHeadPosCT', 'Intub24Head', 'Neurosurgery','DeathTBI']\n",
    "pecarn_tbi[responses_all_colnames].describe()"
   ]
  },
  {
   "cell_type": "code",
   "execution_count": null,
   "metadata": {},
   "outputs": [],
   "source": [
    "model_inputs[responses_all_colnames].describe()"
   ]
  }
 ]
}