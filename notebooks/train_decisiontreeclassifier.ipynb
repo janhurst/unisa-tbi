{
 "cells": [
  {
   "cell_type": "markdown",
   "metadata": {},
   "source": [
    "# Train sklearn.DecisionTreeClassifier\n",
    "This is the notebook used to test the `src/train/sklearn/train_decisiontreeclassifier.py`"
   ]
  },
  {
   "cell_type": "code",
   "execution_count": 1,
   "metadata": {},
   "outputs": [],
   "source": [
    "# magic to help out Jupyter notebooks\n",
    "import os, sys\n",
    "sys.path.append(os.path.abspath('..\\src'))"
   ]
  },
  {
   "cell_type": "code",
   "execution_count": 2,
   "metadata": {},
   "outputs": [
    {
     "output_type": "stream",
     "name": "stdout",
     "text": "INFO:data.pecarn.load:Loading from CSV file c:\\Jan\\Capstone\\notebooks\\TBI PUD 10-08-2013.csv\n"
    }
   ],
   "source": [
    "import pandas as pd \n",
    "\n",
    "# allow log messages in notebooks\n",
    "import logging\n",
    "logging.basicConfig(stream=sys.stdout, level=logging.INFO)\n",
    "\n",
    "# use the pecarn module to bring the PECARN dataset into the notebook\n",
    "from data import pecarn\n",
    "\n",
    "# original raw data, always force loading from CSV\n",
    "pecarn_raw = pecarn.load(fromCsv=True)\n",
    "\n",
    "# cleaned data\n",
    "pecarn_cleaned = pecarn.clean(pecarn_raw)\n",
    "\n",
    "# processed data, ready for splitting into training and test sets\n",
    "X, y = pecarn.preprocess(pecarn_cleaned)"
   ]
  },
  {
   "cell_type": "code",
   "execution_count": 3,
   "metadata": {},
   "outputs": [],
   "source": [
    "from sklearn.model_selection import train_test_split\n",
    "X_train, X_test, y_train, y_test = train_test_split(X, y, train_size=0.75, test_size=0.25, stratify=y)"
   ]
  },
  {
   "cell_type": "code",
   "execution_count": 4,
   "metadata": {},
   "outputs": [
    {
     "output_type": "execute_result",
     "data": {
      "text/plain": "DecisionTreeClassifier(ccp_alpha=0.0, class_weight=None, criterion='gini',\n                       max_depth=None, max_features=None, max_leaf_nodes=None,\n                       min_impurity_decrease=0.0, min_impurity_split=None,\n                       min_samples_leaf=1, min_samples_split=2,\n                       min_weight_fraction_leaf=0.0, presort='deprecated',\n                       random_state=None, splitter='best')"
     },
     "metadata": {},
     "execution_count": 4
    }
   ],
   "source": [
    "from sklearn.tree import DecisionTreeClassifier\n",
    "clf = DecisionTreeClassifier()\n",
    "clf.fit(X_train, y_train)"
   ]
  },
  {
   "cell_type": "code",
   "execution_count": 5,
   "metadata": {},
   "outputs": [
    {
     "output_type": "execute_result",
     "data": {
      "text/plain": "{'accuracy': 0.9766691257838436,\n 'f1': 0.3529411764705882,\n 'f1_weighted': 0.9769327099292077,\n 'avg_precision': 0.1358839689378738}"
     },
     "metadata": {},
     "execution_count": 5
    }
   ],
   "source": [
    "from sklearn.metrics import f1_score, accuracy_score, average_precision_score\n",
    "y_pred = clf.predict(X_test)\n",
    "test_scores = {\n",
    "    'accuracy': accuracy_score(y_test, y_pred),\n",
    "    'f1': f1_score(y_test, y_pred),\n",
    "    'f1_weighted': f1_score(y_test, y_pred, average='weighted'),\n",
    "    'avg_precision': average_precision_score(y_test, y_pred)\n",
    "}\n",
    "test_scores"
   ]
  }
 ],
 "metadata": {
  "language_info": {
   "name": "python",
   "codemirror_mode": {
    "name": "ipython",
    "version": 3
   },
   "version": "3.7.6-final"
  },
  "orig_nbformat": 2,
  "file_extension": ".py",
  "mimetype": "text/x-python",
  "name": "python",
  "npconvert_exporter": "python",
  "pygments_lexer": "ipython3",
  "version": 3,
  "kernelspec": {
   "name": "python37764bittbiconda79f3677b0f244951b8d0c80c92d83904",
   "display_name": "Python 3.7.7 64-bit ('tbi': conda)"
  }
 },
 "nbformat": 4,
 "nbformat_minor": 2
}