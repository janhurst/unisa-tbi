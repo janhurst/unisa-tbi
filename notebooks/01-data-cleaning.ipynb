{
 "nbformat": 4,
 "nbformat_minor": 2,
 "metadata": {
  "language_info": {
   "name": "python",
   "codemirror_mode": {
    "name": "ipython",
    "version": 3
   },
   "version": "3.8.1-final"
  },
  "orig_nbformat": 2,
  "file_extension": ".py",
  "mimetype": "text/x-python",
  "name": "python",
  "npconvert_exporter": "python",
  "pygments_lexer": "ipython3",
  "version": 3,
  "kernelspec": {
   "name": "python38164bitcapstoneconda95c7eaee4aa645f6a7eec5cde52f040b",
   "display_name": "Python 3.8.1 64-bit ('capstone': conda)"
  }
 },
 "cells": [
  {
   "cell_type": "code",
   "execution_count": 1,
   "metadata": {},
   "outputs": [
    {
     "output_type": "stream",
     "name": "stdout",
     "text": "PECARN TBI data read from c:\\Jan\\Capstone\\data/TBI PUD 10-08-2013.csv into \"pecarn_tbi\" dataframe\n"
    }
   ],
   "source": [
    "{\n",
    "    \"tags\": [\n",
    "        \"hide_input\",\n",
    "        \"hide_output\"\n",
    "    ]\n",
    "}\n",
    "import pandas as pd \n",
    "import numpy as np\n",
    "\n",
    "# call the 00-load-raw-data notebook to bring the pecarn_tbi dataframe into the environment\n",
    "%run ./00-load-raw-data.ipynb"
   ]
  },
  {
   "cell_type": "markdown",
   "metadata": {},
   "source": [
    "# Data Cleaning"
   ]
  },
  {
   "cell_type": "code",
   "execution_count": 2,
   "metadata": {},
   "outputs": [
    {
     "output_type": "execute_result",
     "data": {
      "text/plain": "EmplType              category\nCertification         category\nInjuryMech            category\nHigh_impact_InjSev    category\nAmnesia_verb          category\n                        ...   \nHospHead              category\nHospHeadPosCT         category\nIntub24Head           category\nNeurosurgery          category\nPosIntFinal           category\nLength: 124, dtype: object"
     },
     "metadata": {},
     "execution_count": 2
    }
   ],
   "source": [
    "pecarn_tbi.dtypes"
   ]
  }
 ]
}