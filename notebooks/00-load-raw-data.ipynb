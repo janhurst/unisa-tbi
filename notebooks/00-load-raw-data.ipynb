{
 "nbformat": 4,
 "nbformat_minor": 2,
 "metadata": {
  "language_info": {
   "name": "python",
   "codemirror_mode": {
    "name": "ipython",
    "version": 3
   },
   "version": "3.8.1-final"
  },
  "orig_nbformat": 2,
  "file_extension": ".py",
  "mimetype": "text/x-python",
  "name": "python",
  "npconvert_exporter": "python",
  "pygments_lexer": "ipython3",
  "version": 3,
  "kernelspec": {
   "name": "python38164bitcapstoneconda95c7eaee4aa645f6a7eec5cde52f040b",
   "display_name": "Python 3.8.1 64-bit ('capstone': conda)"
  }
 },
 "cells": [
  {
   "cell_type": "markdown",
   "metadata": {},
   "source": [
    "# Load Raw PECARN TBI dataset\n",
    "Either copy the PECARN TBI dataset to the same location as this notebook, or set a TBI_DIR environment variable to whereever the file is stored."
   ],
   "execution_count": null,
   "outputs": []
  },
  {
   "cell_type": "code",
   "execution_count": null,
   "metadata": {},
   "outputs": [],
   "source": [
    "import os\n",
    "import pandas as pd \n",
    "\n",
    "print('START: 00-load-raw-data.ipynb')\n",
    "\n",
    "# the original dataset filename\n",
    "pecarn_tbi_filename = 'TBI PUD 10-08-2013.csv'\n",
    "\n",
    "# check to see if the TBI_DIR environment variable is set\n",
    "try:\n",
    "    pecarn_tbi_dir = os.environ['TBI_DIR']\n",
    "    if os.path.exists(pecarn_tbi_dir + '/' + pecarn_tbi_filename):\n",
    "        pecarn_tbi_filename = pecarn_tbi_dir + '/' + pecarn_tbi_filename\n",
    "    else:\n",
    "        pecarn_tbi_filename = os.getcwd() + '/' + pecarn_tbi_filename\n",
    "except KeyError:\n",
    "    pecarn_tbi_filename = os.getcwd() + '/' + pecarn_tbi_filename\n",
    "\n",
    "# try and load the TBI dataset\n",
    "try:\n",
    "    pecarn_tbi = pd.read_csv(pecarn_tbi_filename, index_col=0)    \n",
    "    print('  PECARN TBI data read from ' + pecarn_tbi_filename + ' into \"pecarn_tbi\" dataframe')\n",
    "except FileNotFoundError:\n",
    "    print('ERROR: ' + pecarn_tbi_filename + ' not found. Please either copy the TBI data to this location or set the TBI_DIR environment variable')    "
   ]
  },
  {
   "cell_type": "markdown",
   "metadata": {},
   "source": [
    "# Column Ordering\n",
    "Purely for convenience, reordering the columns by alphabetical name."
   ],
   "execution_count": null,
   "outputs": []
  },
  {
   "cell_type": "code",
   "execution_count": null,
   "metadata": {},
   "outputs": [],
   "source": [
    "pecarn_tbi = pecarn_tbi.reindex(sorted(pecarn_tbi.columns), axis=1)"
   ]
  },
  {
   "cell_type": "markdown",
   "metadata": {},
   "source": [
    "# Data Types\n",
    "The majority of the columns in the PECARN dataset are essentially categorical, with the exception of GCS and Age columns which are numeric.\n",
    "\n",
    "It is helpful to convert everything to a nullable integer type (Int64) as there is some missing data, and then to a Categorical type."
   ],
   "execution_count": null,
   "outputs": []
  },
  {
   "cell_type": "code",
   "execution_count": null,
   "metadata": {},
   "outputs": [],
   "source": [
    "if 'pecarn_tbi' in locals():\n",
    "    for col in list(pecarn_tbi):\n",
    "        try:\n",
    "            pecarn_tbi[col] = pecarn_tbi[col].astype(float).astype('Int64')\n",
    "            if col not in ['AgeinYears', 'AgeInMonth', 'GCSEye', 'GCSVerbal', 'GCSMotor', 'GCSTotal']:\n",
    "                pecarn_tbi[col] = pecarn_tbi[col].astype('category')\n",
    "        except:\n",
    "            pass"
   ]
  }
 ]
}