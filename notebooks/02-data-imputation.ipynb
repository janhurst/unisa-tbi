{
 "nbformat": 4,
 "nbformat_minor": 2,
 "metadata": {
  "language_info": {
   "name": "python",
   "codemirror_mode": {
    "name": "ipython",
    "version": 3
   }
  },
  "orig_nbformat": 2,
  "file_extension": ".py",
  "mimetype": "text/x-python",
  "name": "python",
  "npconvert_exporter": "python",
  "pygments_lexer": "ipython3",
  "version": 3
 },
 "cells": [
  {
   "cell_type": "markdown",
   "metadata": {},
   "source": [
    "# Automated Imputation\n",
    "This notebook will remove any NaNs from the columns/variables."
   ]
  },
  {
   "cell_type": "code",
   "execution_count": null,
   "metadata": {},
   "outputs": [],
   "source": [
    "%run 01-data-cleaning.ipynb\n",
    "\n",
    "print(\"START: 02-data-imputation.ipynb\")"
   ]
  },
  {
   "cell_type": "markdown",
   "metadata": {},
   "source": [
    "## Temporary hack to deal with Age"
   ]
  },
  {
   "cell_type": "code",
   "execution_count": null,
   "metadata": {},
   "outputs": [],
   "source": [
    "print(\"  Temporary Fix - dropping Age\")\n",
    "data = data.drop(columns='Age')"
   ]
  },
  {
   "cell_type": "code",
   "execution_count": null,
   "metadata": {},
   "outputs": [],
   "source": [
    "from sklearn.impute import SimpleImputer\n",
    "\n",
    "# create an imputer using the 'most_frequent' strategy \n",
    "imputer = SimpleImputer(missing_values=np.nan, strategy='most_frequent', verbose=2)\n",
    "\n",
    "# fit the imputer for any columns that have NaNs\n",
    "total_nans = data.isna().sum().sum()\n",
    "cols_with_nan = list(data.columns[data.isna().sum() > 0])\n",
    "print(f\"  Removing {total_nans} NaN values from {len(cols_with_nan)} columns\")\n",
    "\n",
    "imputer.fit(data[cols_with_nan])\n",
    "imputed = imputer.fit_transform(data[cols_with_nan])\n",
    "\n",
    "# store the imputed values\n",
    "data_imputed = data\n",
    "data_imputed[cols_with_nan] = imputed\n",
    "\n",
    "# convert the imputed values back to categorical\n",
    "for col in list(data_imputed[cols_with_nan]):\n",
    "    data_imputed[col] = data_imputed[col].astype('Int64').astype('category')\n",
    "\n",
    "print('  The imputed dataset is now available in a dataframe named \"data_imputed\"')"
   ]
  }
 ]
}